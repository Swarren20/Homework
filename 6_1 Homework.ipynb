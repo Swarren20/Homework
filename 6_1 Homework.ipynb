{
 "cells": [
  {
   "cell_type": "code",
   "execution_count": 21,
   "metadata": {},
   "outputs": [
    {
     "name": "stdout",
     "output_type": "stream",
     "text": [
      "Renting a car is very expensive\n"
     ]
    }
   ],
   "source": [
    "age = 12\n",
    "\n",
    "if age > 25:\n",
    "    print(\"Renting a car is more affordable\")\n",
    "\n",
    "elif age < 25:\n",
    "    print(\"Renting a car is very expensive\")\n",
    "\n"
   ]
  },
  {
   "cell_type": "code",
   "execution_count": 30,
   "metadata": {},
   "outputs": [
    {
     "name": "stdout",
     "output_type": "stream",
     "text": [
      "You cannot legally rent a car\n"
     ]
    }
   ],
   "source": [
    "age = 12\n",
    "\n",
    "if age > 25:\n",
    "    print(\"Renting a car is more affordable\")\n",
    "    if age < 25 or age >= 18:\n",
    "        print(\"Renting a car is very expensive\")\n",
    "elif age < 18:\n",
    "    print(\"You cannot legally rent a car\")"
   ]
  },
  {
   "cell_type": "code",
   "execution_count": 33,
   "metadata": {},
   "outputs": [
    {
     "name": "stdout",
     "output_type": "stream",
     "text": [
      "43\n",
      "e\n",
      "u\n",
      "i\n",
      "o\n",
      "o\n",
      "u\n",
      "o\n",
      "e\n",
      "e\n",
      "a\n",
      "o\n"
     ]
    }
   ],
   "source": [
    "quote1 = \"The quick brown fox jumps over the lazy dog\"\n",
    "\n",
    "print(len(quote1))\n",
    "\n",
    "for letter in quote1:\n",
    "    if letter in 'aeiou':\n",
    "        print(letter)"
   ]
  },
  {
   "cell_type": "code",
   "execution_count": 34,
   "metadata": {},
   "outputs": [
    {
     "name": "stdout",
     "output_type": "stream",
     "text": [
      "burnt sienna trousers\n",
      "burnt sienna blouse\n",
      "burnt sienna bandana\n",
      "burnt sienna cumber band\n",
      "burnt sienna blazer\n",
      "burnt sienna vest\n",
      "burnt sienna french beret\n",
      "burnt sienna scarf\n",
      "burnt sienna stole\n",
      "gunmetal blue trousers\n",
      "gunmetal blue blouse\n",
      "gunmetal blue bandana\n",
      "gunmetal blue cumber band\n",
      "gunmetal blue blazer\n",
      "gunmetal blue vest\n",
      "gunmetal blue french beret\n",
      "gunmetal blue scarf\n",
      "gunmetal blue stole\n",
      "fuchsia trousers\n",
      "fuchsia blouse\n",
      "fuchsia bandana\n",
      "fuchsia cumber band\n",
      "fuchsia blazer\n",
      "fuchsia vest\n",
      "fuchsia french beret\n",
      "fuchsia scarf\n",
      "fuchsia stole\n",
      "aqua trousers\n",
      "aqua blouse\n",
      "aqua bandana\n",
      "aqua cumber band\n",
      "aqua blazer\n",
      "aqua vest\n",
      "aqua french beret\n",
      "aqua scarf\n",
      "aqua stole\n",
      "Dark Sapphire trousers\n",
      "Dark Sapphire blouse\n",
      "Dark Sapphire bandana\n",
      "Dark Sapphire cumber band\n",
      "Dark Sapphire blazer\n",
      "Dark Sapphire vest\n",
      "Dark Sapphire french beret\n",
      "Dark Sapphire scarf\n",
      "Dark Sapphire stole\n",
      "maple trousers\n",
      "maple blouse\n",
      "maple bandana\n",
      "maple cumber band\n",
      "maple blazer\n",
      "maple vest\n",
      "maple french beret\n",
      "maple scarf\n",
      "maple stole\n",
      "cerise trousers\n",
      "cerise blouse\n",
      "cerise bandana\n",
      "cerise cumber band\n",
      "cerise blazer\n",
      "cerise vest\n",
      "cerise french beret\n",
      "cerise scarf\n",
      "cerise stole\n",
      "auburn trousers\n",
      "auburn blouse\n",
      "auburn bandana\n",
      "auburn cumber band\n",
      "auburn blazer\n",
      "auburn vest\n",
      "auburn french beret\n",
      "auburn scarf\n",
      "auburn stole\n"
     ]
    }
   ],
   "source": [
    "couture = [\"trousers\", \"blouse\", \"bandana\", \"cumber band\", \"blazer\", \"vest\", \"french beret\", \"scarf\", \"stole\"] \n",
    "panettone = {\"cerise\", \"fuchsia\", \"aqua\", \"maple\", \"auburn\", \"burnt sienna\", \"gunmetal blue\", \"Dark Sapphire\"} \n",
    "\n",
    "for x in panettone:\n",
    "    for y in couture:\n",
    "        print(x, y)"
   ]
  },
  {
   "cell_type": "code",
   "execution_count": 38,
   "metadata": {},
   "outputs": [
    {
     "name": "stdout",
     "output_type": "stream",
     "text": [
      "5050\n",
      "banana\n",
      "kiwi\n",
      "['kiwi', 'banana', 'cherry']\n"
     ]
    }
   ],
   "source": [
    "sum = 0 \n",
    "\n",
    "for x in range(1,101):\n",
    "    sum += x\n",
    "print(sum)\n",
    "\n",
    "#\n",
    "\n",
    "fruit = [\"apple\", \"banana\", \"cherry\"]\n",
    "\n",
    "print(fruit[1])\n",
    "\n",
    "#\n",
    "\n",
    "fruit = [\"apple\", \"banana\", \"cherry\"]\n",
    "\n",
    "if \"apple\" in fruit:\n",
    "    print(\"kiwi\")\n",
    "\n",
    "fruit[0] = \"kiwi\"\n",
    "print(fruit)"
   ]
  },
  {
   "cell_type": "code",
   "execution_count": 39,
   "metadata": {},
   "outputs": [
    {
     "name": "stdout",
     "output_type": "stream",
     "text": [
      "['apple', 'banana', 'cherry', 'orange']\n",
      "['apple', 'lemon', 'banana', 'cherry']\n",
      "['apple', 'cherry']\n"
     ]
    }
   ],
   "source": [
    "fruit = [\"apple\", \"banana\", \"cherry\"]\n",
    "\n",
    "fruit.append(\"orange\")\n",
    "print(fruit)\n",
    "\n",
    "#\n",
    "\n",
    "fruit = [\"apple\", \"banana\", \"cherry\"]\n",
    "\n",
    "fruit.insert(1, \"lemon\")\n",
    "print(fruit)\n",
    "\n",
    "#\n",
    "\n",
    "fruit = [\"apple\", \"banana\", \"cherry\"]\n",
    "\n",
    "fruit.remove(\"banana\")\n",
    "print(fruit)\n",
    "\n"
   ]
  },
  {
   "cell_type": "code",
   "execution_count": 42,
   "metadata": {},
   "outputs": [
    {
     "name": "stdout",
     "output_type": "stream",
     "text": [
      "melon\n",
      "kiwi\n",
      "['cherry', 'orange', 'kiwi']\n",
      "7\n",
      "['orange', 'melon', 'mango', 'kiwi', 'cherry', 'banana', 'apple']\n"
     ]
    }
   ],
   "source": [
    "fruit = [\"apple\", \"banana\", \"cherry\", \"orange\", \"kiwi\", \"melon\", \"mango\"]\n",
    "\n",
    "print(fruit[-2])\n",
    "print(fruit[-3])\n",
    "\n",
    "#\n",
    "\n",
    "fruit = [\"apple\", \"banana\", \"cherry\", \"orange\", \"kiwi\", \"melon\", \"mango\"]\n",
    "\n",
    "print(fruit[2:5])\n",
    "\n",
    "#\n",
    "\n",
    "fruit = [\"apple\", \"banana\", \"cherry\", \"orange\", \"kiwi\", \"melon\", \"mango\"]\n",
    "\n",
    "print(len(fruit))\n",
    "\n",
    "#\n",
    "\n",
    "fruit = [\"apple\", \"banana\", \"cherry\", \"orange\", \"kiwi\", \"melon\", \"mango\"]\n",
    "\n",
    "fruit.sort(reverse=True)\n",
    "print(fruit)"
   ]
  },
  {
   "cell_type": "code",
   "execution_count": 45,
   "metadata": {},
   "outputs": [
    {
     "name": "stdout",
     "output_type": "stream",
     "text": [
      "2022-11-22 10:13:48.185110\n",
      "November\n",
      "Hi Stanley! Happy Sunday.\n",
      "Hi Stanley! Happy Sunday.\n",
      "(2, 4, 2)\n"
     ]
    }
   ],
   "source": [
    "import datetime\n",
    "\n",
    "x = datetime.datetime.now()\n",
    "print(x)\n",
    "\n",
    "print(x.strftime(\"%B\"))\n",
    "\n",
    "#\n",
    "\n",
    "def greetings (name, day):\n",
    "    print(\"Hi\", name + \"!\", \"Happy\", day + \".\")\n",
    "\n",
    "greetings(name=\"Stanley\", day=\"Sunday\")\n",
    "\n",
    "#1 variable (nd)\n",
    "def greet (name):\n",
    "    print(\"Hi\", name + \"! Happy Sunday.\")\n",
    "\n",
    "greet(name = \"Stanley\")\n",
    "\n",
    "#\n",
    "\n",
    "import numpy as np\n",
    "\n",
    "array1 = np.array (\n",
    "    [\n",
    "        [[1,2], [3,4], [5,6],[7,8]],\n",
    "        [[1,2], [3,4], [5,6],[7,8]]\n",
    "    ]\n",
    ")\n",
    "print(array1.shape)"
   ]
  }
 ],
 "metadata": {
  "kernelspec": {
   "display_name": "Python 3.10.7 64-bit",
   "language": "python",
   "name": "python3"
  },
  "language_info": {
   "codemirror_mode": {
    "name": "ipython",
    "version": 3
   },
   "file_extension": ".py",
   "mimetype": "text/x-python",
   "name": "python",
   "nbconvert_exporter": "python",
   "pygments_lexer": "ipython3",
   "version": "3.10.7"
  },
  "orig_nbformat": 4,
  "vscode": {
   "interpreter": {
    "hash": "aee8b7b246df8f9039afb4144a1f6fd8d2ca17a180786b69acc140d282b71a49"
   }
  }
 },
 "nbformat": 4,
 "nbformat_minor": 2
}
