{
 "cells": [
  {
   "cell_type": "code",
   "execution_count": 35,
   "metadata": {},
   "outputs": [
    {
     "name": "stdout",
     "output_type": "stream",
     "text": [
      "['tofu', 5.2, 7, 5, (5+6j), '2022-07-15', '1:00:45', 'vegtables', 'fruits']\n"
     ]
    },
    {
     "ename": "TypeError",
     "evalue": "'<' not supported between instances of 'float' and 'str'",
     "output_type": "error",
     "traceback": [
      "\u001b[0;31m---------------------------------------------------------------------------\u001b[0m",
      "\u001b[0;31mTypeError\u001b[0m                                 Traceback (most recent call last)",
      "Cell \u001b[0;32mIn [35], line 14\u001b[0m\n\u001b[1;32m     12\u001b[0m \u001b[39mprint\u001b[39m(List1)\n\u001b[1;32m     13\u001b[0m List2\u001b[39m.\u001b[39mextend(Sub_List1)\n\u001b[0;32m---> 14\u001b[0m List2\u001b[39m.\u001b[39;49msort(reverse\u001b[39m=\u001b[39;49m\u001b[39mFalse\u001b[39;49;00m)\n\u001b[1;32m     15\u001b[0m \u001b[39mprint\u001b[39m(List2)\n\u001b[1;32m     16\u001b[0m List4 \u001b[39m=\u001b[39m List2\u001b[39m.\u001b[39mcopy()\n",
      "\u001b[0;31mTypeError\u001b[0m: '<' not supported between instances of 'float' and 'str'"
     ]
    }
   ],
   "source": [
    "List1 = ['milk','cookies', (7.3), (5), (5+6j), ('2022-07-15'), ('1:00:45') ]\n",
    "Sub_List1 = List1[0:4]\n",
    "List2 = [\"Chocolate\", \"peanut butter\", \"cheese\"]\n",
    "List3 = ['Chicken', 'turkey', 'pork']\n",
    "# \n",
    "List1[0] = 'tofu'\n",
    "List1[1] = 5.2\n",
    "List1[2] = (7)\n",
    "List1.append(\"vegtables\")\n",
    "List1.append(\"fruits\")\n",
    "# \n",
    "print(List1)\n",
    "List2.extend(Sub_List1)\n",
    "List2.sort(reverse=False)\n",
    "print(List2)\n",
    "List4 = List2.copy()\n",
    "List4.sort(reverse=True)\n",
    "print(List4)\n",
    "List5 = List2 + List3\n",
    "print(List5)\n",
    "print()\n",
    "# Forgot To print length\n",
    "Length1 = len(List1)\n",
    "print(Length1)\n",
    "Simlist = [1,2,3,4,5]\n",
    "print(Simlist)\n",
    "List6 = (Simlist + List3)\n",
    "print(List6)"
   ]
  },
  {
   "cell_type": "code",
   "execution_count": 34,
   "metadata": {},
   "outputs": [
    {
     "name": "stdout",
     "output_type": "stream",
     "text": [
      "('bill', 'jerry', 'johnny', 'jacob', 'stanley')\n",
      "\n",
      " ('bill', 'jerry', 'johnny', 'jacob', 'stanley', 'bill', 'jerry', 'johnny', 'jacob', 'stanley', 'bill', 'jerry', 'johnny', 'jacob', 'stanley')\n",
      "\n",
      " johnny\n",
      "\n",
      " ['bill', 'bill', 'bill', 'jacob', 'jacob', 'jacob', 'jerry', 'jerry', 'jerry', 'johnny', 'johnny', 'johnny', 'stanley', 'stanley', 'stanley']\n",
      "\n",
      " ('molly', 'jessica', 'addison', 'sierra')\n",
      "molly jessica\n",
      "\n",
      " 50\n",
      "\n",
      " ('bill', 'jerry', 'johnny', 'jacob', 'stanley', 'bill', 'jerry', 'johnny', 'jacob', 'stanley', 'bill', 'jerry', 'johnny', 'jacob', 'stanley', 'molly', 'jessica', 'addison', 'sierra')\n"
     ]
    }
   ],
   "source": [
    "#Tuples\n",
    "Tuple1 = ('bill','jerry','johnny','jacob','stanley')\n",
    "print(Tuple1)\n",
    "#\n",
    "Tuple2 = (Tuple1*3)\n",
    "print('\\n',Tuple2)\n",
    "#\n",
    "Tuple2[12]\n",
    "print('\\n',Tuple2[12])\n",
    "#\n",
    "print('\\n',sorted(Tuple2))\n",
    "#\n",
    "Tuple3 =('molly', 'jessica', 'addison', 'sierra')\n",
    "print('\\n', Tuple3)\n",
    "#\n",
    "a, j, l, h = Tuple3 \n",
    "print(a,j)\n",
    "#\n",
    "Tuple4 = (50)\n",
    "print('\\n', Tuple4)\n",
    "#Yay\n",
    "Tuple5 = (Tuple2 + Tuple3)\n",
    "print('\\n', Tuple5)"
   ]
  },
  {
   "cell_type": "code",
   "execution_count": 33,
   "metadata": {},
   "outputs": [
    {
     "ename": "IndentationError",
     "evalue": "unexpected indent (2155691320.py, line 26)",
     "output_type": "error",
     "traceback": [
      "\u001b[0;36m  Cell \u001b[0;32mIn [33], line 26\u001b[0;36m\u001b[0m\n\u001b[0;31m    'name': 'Stanley',\u001b[0m\n\u001b[0m    ^\u001b[0m\n\u001b[0;31mIndentationError\u001b[0m\u001b[0;31m:\u001b[0m unexpected indent\n"
     ]
    }
   ],
   "source": [
    "#Dictionary\n",
    "Dictionary1={\n",
    "    \"name\": \"Stanley\",\n",
    "    \"age\": \"28.8\",\n",
    "    \"height\": \"74 inches\",\n",
    "    \"Citizen\": \"True\",\n",
    "    \"Race\": \"Black\"}\n",
    "print(Dictionary1)\n",
    "#\n",
    "print(\"\\n\",list(Dictionary1)[0]) \n",
    "#\n",
    "Dictionary1.update({\"Heritage\": \"American\", \"name\": \"Stanley\"}) \n",
    "print(\"\\n\",Dictionary1)\n",
    "#\n",
    "Dictionary1.update({\"color\": \"blue\"})\n",
    "print(\"\\n\",Dictionary1)\n",
    "#\n",
    "Dictionary1.update({\"Favorites cars\": [\"Corvette\",\"Escalade\",\"lexus\"],})\n",
    "print(\"\\n\",Dictionary1)\n",
    "#\n",
    "print(\"\\n\",Dictionary1.keys()) \n",
    "#\n",
    "print(\"\\n\",Dictionary1.values()) \n",
    "#\n",
    "Dictionary2={}\n",
    "    'name': 'Stanley', \n",
    "    'age': '28.8', \n",
    "    'height': '74 inches', \n",
    "    'Citizen': 'True', \n",
    "    'Heritage': 'Black', \n",
    "    'Favorite game': 'Pokemon', \n",
    "    'Favorite cars': {\"Chevy\",\"ford\",\"toyota\"}\n",
    "print(Set1)\n",
    "#\n",
    "Fruit_list = ('apples','oranges', 'pineapples') \n",
    "Set1.add(Fruit_list)\n",
    "print (\"\\n\",Set1)\n",
    "#\n",
    "Set1.add(\"Cake\")\n",
    "Set2={\"flour\", \"sugar\", \"baking powder\"} \n",
    "#\n",
    "Set3=Set1.union(Set2)\n",
    "print(\"\\n\",Set3)\n",
    "#\n",
    "Set2.pop()\n",
    "print(\"\\n\",Set2)\n",
    "#\n",
    "Set1.clear()\n",
    "print(\"\\n\",Set1)\n",
    "#\n",
    "Set3.discard(\"pineapples\")\n",
    "print(\"\\n\",Set3)\n",
    "#\n",
    "Set3.remove(\"bacon\")\n",
    "print(\"\\n\",Set3)']} \n",
    "print(\"\\n\",Dictionary2)\n",
    "#\n",
    "print(\"\\n\",Dictionary2.popitem())\n",
    "#\n",
    "Dictionary2.clear()\n",
    "print(\"\\n\",Dictionary2) "
   ]
  },
  {
   "cell_type": "code",
   "execution_count": 32,
   "metadata": {},
   "outputs": [
    {
     "name": "stdout",
     "output_type": "stream",
     "text": [
      "{'eggs', 'bacon', 'milk'}\n",
      "\n",
      " {'eggs', 'bacon', ('apples', 'oranges', 'pineapples'), 'milk'}\n",
      "\n",
      " {('apples', 'oranges', 'pineapples'), 'milk', 'chairs', 'windshield', 'eggs', 'bacon', 'side mirror', 'Hyundai'}\n",
      "\n",
      " {'windshield', 'side mirror'}\n",
      "\n",
      " set()\n",
      "\n",
      " {('apples', 'oranges', 'pineapples'), 'milk', 'chairs', 'windshield', 'eggs', 'bacon', 'side mirror', 'Hyundai'}\n",
      "\n",
      " {('apples', 'oranges', 'pineapples'), 'chairs', 'windshield', 'eggs', 'bacon', 'side mirror', 'Hyundai'}\n"
     ]
    }
   ],
   "source": [
    "Set1={\"bacon\", \"eggs\", \"milk\"}\n",
    "print(Set1)\n",
    "#\n",
    "Fruit_list = ('apples','oranges', 'pineapples') \n",
    "Set1.add(Fruit_list)\n",
    "print (\"\\n\",Set1)\n",
    "#\n",
    "Set1.add(\"Hyundai\")\n",
    "Set2={\"chairs\", \"windshield\", \"side mirror\"} \n",
    "#\n",
    "Set3=Set1.union(Set2)\n",
    "print(\"\\n\",Set3)\n",
    "#\n",
    "Set2.pop()\n",
    "print(\"\\n\",Set2)\n",
    "#\n",
    "Set1.clear()\n",
    "print(\"\\n\",Set1)\n",
    "#\n",
    "Set3.discard(\"oranges\")\n",
    "print(\"\\n\",Set3)\n",
    "#\n",
    "Set3.remove(\"milk\")\n",
    "print(\"\\n\",Set3)"
   ]
  }
 ],
 "metadata": {
  "kernelspec": {
   "display_name": "Python 3.10.7 64-bit",
   "language": "python",
   "name": "python3"
  },
  "language_info": {
   "codemirror_mode": {
    "name": "ipython",
    "version": 3
   },
   "file_extension": ".py",
   "mimetype": "text/x-python",
   "name": "python",
   "nbconvert_exporter": "python",
   "pygments_lexer": "ipython3",
   "version": "3.10.7"
  },
  "orig_nbformat": 4,
  "vscode": {
   "interpreter": {
    "hash": "aee8b7b246df8f9039afb4144a1f6fd8d2ca17a180786b69acc140d282b71a49"
   }
  }
 },
 "nbformat": 4,
 "nbformat_minor": 2
}
