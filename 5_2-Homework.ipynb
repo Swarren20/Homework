{
 "cells": [
  {
   "cell_type": "markdown",
   "metadata": {},
   "source": [
    "# What is an algorithm? \n",
    "A process or set of rules to be followed in calculations or other problem-solving operations, espreccially by a computer\n",
    "Why is Python considered to be a high-level language?\n",
    "Is Python a Natural or a Formal language?\n",
    "Variable names may not start with certain characters - name two.\n",
    "WHat is a Semantic error?\n",
    "What is the #1 rule of coding / debugging?\n",
    "list 5 Python reserved words.\n",
    "add and name, a web link for any Python coding article, in your markdown cell"
   ]
  },
  {
   "cell_type": "code",
   "execution_count": 34,
   "metadata": {},
   "outputs": [
    {
     "name": "stdout",
     "output_type": "stream",
     "text": [
      "milk\n",
      "Learning Data Analytics and Python is Awsome\n"
     ]
    }
   ],
   "source": [
    "S = \"Stanley\"\n",
    "Years = 28\n",
    "exactage = 28.8\n",
    "groceries = (\"hotdogs\", \"hambergers\", \"buns\", \"milk\")\n",
    "FridgeItems = [(\"hotdogs\", \"hambergers\", \"buns\", \"milk\")]\n",
    "Num = range(3)\n",
    "\n",
    "len(S)\n",
    "print(groceries[3])\n",
    "savvy = \"Learning Data Analytics and Python is Awsome\"\n",
    "print(savvy)\n",
    "\n"
   ]
  },
  {
   "cell_type": "code",
   "execution_count": 70,
   "metadata": {},
   "outputs": [
    {
     "name": "stdout",
     "output_type": "stream",
     "text": [
      "ing Data Analytics\n",
      "Learning Data Analytics and Python is Awsome\n"
     ]
    }
   ],
   "source": [
    "print(savvy[5:23])\n",
    "print(savvy.replace(\"awsome\",\"great\"))\n",
    "name = \"warren\"\n",
    "tall = \"six\"\n",
    "\n"
   ]
  },
  {
   "cell_type": "code",
   "execution_count": 143,
   "metadata": {},
   "outputs": [
    {
     "name": "stdout",
     "output_type": "stream",
     "text": [
      "Hi my name is Stan, I am 6'1 tall and 28 years old today.\n",
      "28.1\n"
     ]
    }
   ],
   "source": [
    "name = \"Stan\"\n",
    "age = 28\n",
    "length = \"6'1 tall\"\n",
    "\n",
    "miniBio = f'Hi my name is {name}, I am {length} and {age} years old today.'\n",
    "\n",
    "print(miniBio)\n",
    "\n",
    "age = float(28.1)\n",
    "print(age)"
   ]
  },
  {
   "cell_type": "markdown",
   "metadata": {},
   "source": []
  },
  {
   "cell_type": "markdown",
   "metadata": {},
   "source": []
  }
 ],
 "metadata": {
  "kernelspec": {
   "display_name": "Python 3.10.7 64-bit",
   "language": "python",
   "name": "python3"
  },
  "language_info": {
   "codemirror_mode": {
    "name": "ipython",
    "version": 3
   },
   "file_extension": ".py",
   "mimetype": "text/x-python",
   "name": "python",
   "nbconvert_exporter": "python",
   "pygments_lexer": "ipython3",
   "version": "3.10.7"
  },
  "orig_nbformat": 4,
  "vscode": {
   "interpreter": {
    "hash": "aee8b7b246df8f9039afb4144a1f6fd8d2ca17a180786b69acc140d282b71a49"
   }
  }
 },
 "nbformat": 4,
 "nbformat_minor": 2
}
